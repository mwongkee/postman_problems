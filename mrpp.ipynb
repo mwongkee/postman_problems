{
 "cells": [
  {
   "cell_type": "code",
   "execution_count": 1,
   "metadata": {},
   "outputs": [],
   "source": [
    "import networkx as nx\n",
    "import pandas as pd\n",
    "from copy import deepcopy"
   ]
  },
  {
   "cell_type": "code",
   "execution_count": 22,
   "metadata": {},
   "outputs": [],
   "source": [
    "def get_multi_mixed_arcs_and_edges(G):\n",
    "    edges = []\n",
    "    for i, j_dict in G._adj.items():\n",
    "        for j, neib_dict in j_dict.items():\n",
    "            for k in neib_dict.keys():\n",
    "                edges.append([i, j, k])\n",
    "    return edges\n",
    "\n",
    "def get_multi_mixed_arcs(G):\n",
    "    edges = []\n",
    "    for i, j_dict in G._adj.items():\n",
    "        for j, neib_dict in j_dict.items():\n",
    "            for k, vals in neib_dict.items():\n",
    "                if vals['bidirection'] == False:\n",
    "                    edges.append([i, j, k])\n",
    "    return edges\n",
    "\n",
    "def get_multi_mixed_edges(G):\n",
    "    edges = []\n",
    "    for i, j_dict in G._adj.items():\n",
    "        for j, neib_dict in j_dict.items():\n",
    "            if j < i:\n",
    "                continue\n",
    "            for k, vals in neib_dict.items():\n",
    "                if vals['bidirection'] == True:\n",
    "                    edges.append([i, j, k])\n",
    "    return edges"
   ]
  },
  {
   "cell_type": "code",
   "execution_count": 23,
   "metadata": {},
   "outputs": [],
   "source": [
    "# from networkx.classes.reportviews import OutMultiEdgeView, OutMultiEdgeDataView\n",
    "\n",
    "# class MixedMultiEdgeDataView(OutMultiEdgeDataView):\n",
    "#     \"\"\"An EdgeDataView class for edges of MultiGraph; See EdgeDataView\"\"\"\n",
    "#     __slots__ = ()\n",
    "\n",
    "#     def __len__(self):\n",
    "#         # nbunch makes it hard to count edges between nodes in nbunch\n",
    "#         return sum(1 for e in self)\n",
    "\n",
    "#     def __iter__(self):\n",
    "#         seen = {}\n",
    "#         for n, nbrs in self._nodes_nbrs():\n",
    "#             for nbr, kd in nbrs.items():\n",
    "#                 if nbr not in seen:\n",
    "#                     for k, dd in kd.items():\n",
    "#                         yield self._report(n, nbr, k, dd)\n",
    "#             seen[n] = 1\n",
    "#         del seen\n",
    "\n",
    "#     def __contains__(self, e):\n",
    "#         u, v = e[:2]\n",
    "#         try:\n",
    "#             kdict = self._adjdict[u][v]\n",
    "#         except KeyError:\n",
    "#             try:\n",
    "#                 kdict = self._adjdict[v][u]\n",
    "#             except KeyError:\n",
    "#                 return False\n",
    "#         if self.keys is True:\n",
    "#             k = e[2]\n",
    "#             try:\n",
    "#                 dd = kdict[k]\n",
    "#             except KeyError:\n",
    "#                 return False\n",
    "#             return e == self._report(u, v, k, dd)\n",
    "#         for k, dd in kdict.items():\n",
    "#             if e == self._report(u, v, k, dd):\n",
    "#                 return True\n",
    "#         return False\n",
    "\n",
    "\n",
    "# class MixedMultiEdgeView(OutMultiEdgeView):\n",
    "#     \"\"\"A EdgeView class for edges of a MultiGraph\"\"\"\n",
    "#     __slots__ = ()\n",
    "\n",
    "#     dataview = MultiEdgeDataView\n",
    "\n",
    "#     def __len__(self):\n",
    "#         return sum(len(kdict) for n, nbrs in self._nodes_nbrs()\n",
    "#                    for nbr, kdict in nbrs.items()) // 2\n",
    "\n",
    "#     def __iter__(self):\n",
    "#         seen = {}\n",
    "#         for n, nbrs in self._nodes_nbrs():\n",
    "#             for nbr, kd in nbrs.items():\n",
    "#                 if nbr not in seen:\n",
    "#                     for k, dd in kd.items():\n",
    "#                         yield (n, nbr, k)\n",
    "#             seen[n] = 1\n",
    "#         del seen"
   ]
  },
  {
   "cell_type": "code",
   "execution_count": 24,
   "metadata": {},
   "outputs": [],
   "source": [
    "class MixedMultiGraph(nx.MultiGraph):\n",
    "    def add_arc(self, u, v, key=None, **attr):\n",
    "        if u not in self._adj:\n",
    "            self._adj[u] = self.adjlist_inner_dict_factory()\n",
    "            self._node[u] = {}\n",
    "        if v not in self._adj:\n",
    "            self._adj[v] = self.adjlist_inner_dict_factory()\n",
    "            self._node[v] = {}\n",
    "        if key is None:\n",
    "            key = self.new_edge_key(u, v)\n",
    "        if v in self._adj[u]:\n",
    "            keydict = self._adj[u][v]\n",
    "            datadict = keydict.get(key, self.edge_attr_dict_factory())\n",
    "            datadict.update(attr)\n",
    "            keydict[key] = datadict\n",
    "        else:\n",
    "            # selfloops work this way without special treatment\n",
    "            datadict = self.edge_attr_dict_factory()\n",
    "            datadict.update(attr)\n",
    "            keydict = self.edge_key_dict_factory()\n",
    "            keydict[key] = datadict\n",
    "            self._adj[u][v] = keydict\n",
    "#             G._adj[v][u] = keydict\n",
    "        return key\n",
    "    \n",
    "    def copy(self, as_view=False):\n",
    "        pass\n",
    "    "
   ]
  },
  {
   "cell_type": "code",
   "execution_count": 25,
   "metadata": {},
   "outputs": [],
   "source": [
    "edges = [ # n1, n2, bidirection, required, weight\n",
    "    (1, 2, True, False, 35),\n",
    "    (1, 4, True, True, 70),\n",
    "    (1, 5, False, True, 32),\n",
    "    (2, 26, False, False, 21),\n",
    "    (3, 2, False, True, 17),\n",
    "    (3, 6, False, True, 30),\n",
    "    (3, 7, True, True, 18),\n",
    "    (3, 8, True, True, 41),\n",
    "    (4, 5, True, True, 45),\n",
    "    (4, 9, True, True, 23),\n",
    "    (5, 11, False, False, 25),\n",
    "    (6, 7, True, True, 25),\n",
    "    (6, 28, True, False, 7),\n",
    "    (7, 8, True, True, 9),\n",
    "    (7, 13, True, True, 21),\n",
    "    (7, 14, True, True, 11),\n",
    "    (10, 11, False, True, 10),\n",
    "    (10, 12, True, True, 30),\n",
    "    (11, 12, True, True, 15),\n",
    "    (11, 27, False, False, 7),\n",
    "    (12, 16, True, False, 15),\n",
    "    (12, 17, True, True, 13),\n",
    "    (13, 29, True, False, 9),\n",
    "    (14, 13, False, True, 15),\n",
    "    (14, 15, False, True, 21),\n",
    "    (14, 19, True, False, 8),\n",
    "    (15, 20, True, False, 10),\n",
    "    (16, 22, True, True, 40),\n",
    "    (17, 23, True, False, 13),\n",
    "    (18, 19, False, True, 25),\n",
    "    (18, 24, True, False, 16),\n",
    "    (19, 20, True, True, 16),\n",
    "    (19, 24, True, True, 21),\n",
    "    (19, 25, True, True, 37),\n",
    "    (21, 22, True, True, 7),\n",
    "    (23, 22, False, True, 27),\n",
    "    (25, 24, False, True, 19),\n",
    "    (25, 20, False, True, 12),\n",
    "    (26, 27, True, False, 11),\n",
    "    (27, 28, False, False, 5),\n",
    "    (28, 13, False, False, 2),\n",
    "    (29, 30, True, False, 3),\n",
    "    (30, 18, False, False, 7),\n",
    "    (30, 23, False, False, 18)    \n",
    "]\n",
    "edges_df = pd.DataFrame(edges)"
   ]
  },
  {
   "cell_type": "code",
   "execution_count": 26,
   "metadata": {},
   "outputs": [],
   "source": [
    "edges_df.columns = ['n1', 'n2', 'bidirectional', 'required', 'weight']"
   ]
  },
  {
   "cell_type": "code",
   "execution_count": 27,
   "metadata": {},
   "outputs": [],
   "source": [
    "V_r = set(edges_df.loc[edges_df['required'], ['n1', 'n2']].values.flatten())"
   ]
  },
  {
   "cell_type": "code",
   "execution_count": 28,
   "metadata": {},
   "outputs": [],
   "source": [
    "def new_arc_key(G, u, v):\n",
    "    neighbors = G._adj[u]\n",
    "    if v in neighbors:\n",
    "        keys = neighbors[v].keys()\n",
    "        print(keys)\n",
    "        i = 1\n",
    "        while 'A{}'.format(i) not in keys:\n",
    "            i += 1\n",
    "        return 'A{}'.format(i)\n",
    "    else:\n",
    "        return 'A1'\n",
    "\n",
    "def new_edge_key(G, u, v):\n",
    "    arc_data = G.get_edge_data(u, v)\n",
    "    keys = arc_data.keys()\n",
    "    print(keys)\n",
    "    i = 1\n",
    "    while 'A{}'.format(i) not in keys:\n",
    "        i += 1\n",
    "    return 'A{}'.format(i)\n",
    "\n",
    "def add_arc(G, u, v, key=None, **attr):\n",
    "    \"\"\"Add an edge between u and v.\n",
    "\n",
    "    The nodes u and v will be automatically added if they are\n",
    "    not already in the graph.\n",
    "\n",
    "    Edge attributes can be specified with keywords or by directly\n",
    "    accessing the edge's attribute dictionary. See examples below.\n",
    "\n",
    "    Parameters\n",
    "    ----------\n",
    "    u, v : nodes\n",
    "        Nodes can be, for example, strings or numbers.\n",
    "        Nodes must be hashable (and not None) Python objects.\n",
    "    attr : keyword arguments, optional\n",
    "        Edge data (or labels or objects) can be assigned using\n",
    "        keyword arguments.\n",
    "\n",
    "    See Also\n",
    "    --------\n",
    "    add_edges_from : add a collection of edges\n",
    "\n",
    "    Notes\n",
    "    -----\n",
    "    Adding an edge that already exists updates the edge data.\n",
    "\n",
    "    Many NetworkX algorithms designed for weighted graphs use\n",
    "    an edge attribute (by default `weight`) to hold a numerical value.\n",
    "\n",
    "    Examples\n",
    "    --------\n",
    "    The following all add the edge e=(1, 2) to graph G:\n",
    "\n",
    "    >>> G = nx.Graph()   # or DiGraph, MultiGraph, MultiDiGraph, etc\n",
    "    >>> e = (1, 2)\n",
    "    >>> G.add_edge(1, 2)           # explicit two-node form\n",
    "    >>> G.add_edge(*e)             # single edge as tuple of two nodes\n",
    "    >>> G.add_edges_from([(1, 2)])  # add edges from iterable container\n",
    "\n",
    "    Associate data to edges using keywords:\n",
    "\n",
    "    >>> G.add_edge(1, 2, weight=3)\n",
    "    >>> G.add_edge(1, 3, weight=7, capacity=15, length=342.7)\n",
    "\n",
    "    For non-string attribute keys, use subscript notation.\n",
    "\n",
    "    >>> G.add_edge(1, 2)\n",
    "    >>> G[1][2].update({0: 5})\n",
    "    >>> G.edges[1, 2].update({0: 5})\n",
    "    \"\"\"\n",
    "    \n",
    "    if G.is_multigraph():\n",
    "        if u not in G._adj:\n",
    "            G._adj[u] = G.adjlist_inner_dict_factory()\n",
    "            G._node[u] = {}\n",
    "        if v not in G._adj:\n",
    "            G._adj[v] = G.adjlist_inner_dict_factory()\n",
    "            G._node[v] = {}\n",
    "        if key is None:\n",
    "            key = new_arc_key(G, u, v)\n",
    "        if v in G._adj[u]:\n",
    "            keydict = G._adj[u][v]\n",
    "            datadict = keydict.get(key, G.edge_attr_dict_factory())\n",
    "            datadict.update(attr)\n",
    "            keydict[key] = datadict\n",
    "        else:\n",
    "            # selfloops work this way without special treatment\n",
    "            datadict = G.edge_attr_dict_factory()\n",
    "            datadict.update(attr)\n",
    "            keydict = G.edge_key_dict_factory()\n",
    "            keydict[key] = datadict\n",
    "            G._adj[u][v] = keydict\n",
    "#             G._adj[v][u] = keydict\n",
    "        return key\n",
    "    else:\n",
    "        # add nodes\n",
    "        if u not in G._node:\n",
    "            G._adj[u] = G.adjlist_inner_dict_factory()\n",
    "            G._node[u] = {}\n",
    "        if v not in G._node:\n",
    "            G._adj[v] = G.adjlist_inner_dict_factory()\n",
    "            G._node[v] = {}\n",
    "        # add the edge\n",
    "        datadict = G._adj[u].get(v, G.edge_attr_dict_factory())\n",
    "        datadict.update(attr)\n",
    "        G._adj[u][v] = datadict\n",
    "        return None\n",
    "\n",
    "def remove_arc_from(G, u, v, key=None):  \n",
    "    try:\n",
    "        d = G._adj[u][v]\n",
    "    except KeyError:\n",
    "        raise NetworkXError(\n",
    "            \"The edge %s-%s is not in the graph.\" % (u, v))\n",
    "    # remove the edge with specified data\n",
    "    if key is None:\n",
    "        d.popitem()\n",
    "    else:\n",
    "        try:\n",
    "            del d[key]\n",
    "        except KeyError:\n",
    "            msg = \"The edge %s-%s with key %s is not in the graph.\"\n",
    "            raise NetworkXError(msg % (u, v, key))\n",
    "    if len(d) == 0:\n",
    "        # remove the key entries if last edge\n",
    "        del G._adj[u][v]\n",
    "\n",
    "    "
   ]
  },
  {
   "cell_type": "code",
   "execution_count": 29,
   "metadata": {},
   "outputs": [],
   "source": [
    "G_all_arcs = nx.MultiDiGraph()\n",
    "G_all = nx.MultiGraph()\n",
    "G_req = nx.MultiGraph()\n",
    "G_not_req_arcs = nx.MultiDiGraph()\n",
    "G_not_req = nx.MultiGraph()\n",
    "G_req_arcs = nx.MultiDiGraph()\n",
    "\n",
    "\n",
    "# def add_arc(graph, node1, node2, weight, required):\n",
    "#     if isinstance(graph, nx.DiGraph):\n",
    "#         graph.add_edge(node1, node2, weight=weight, bidirection=False, required=required)\n",
    "#     else:\n",
    "#         graph.add_edge(node1, node2, weight=weight, bidirection=False, required=required)\n",
    "#         del graph._adj[node2][node1]\n",
    "\n",
    "\n",
    "\n",
    "for i, row in edges_df[(~edges_df['bidirectional'])  & ~(edges_df['required'])].iterrows():\n",
    "    for graph in [G_all_arcs, G_all, G_not_req, G_not_req_arcs]:\n",
    "        add_arc(graph, row['n1'], row['n2'], key='A1', weight=row['weight'], required=False, bidirection=False)\n",
    "    \n",
    "for i, row in edges_df[(~edges_df['bidirectional']) & (edges_df['required'])].iterrows():\n",
    "    for graph in [G_all_arcs, G_all, G_req, G_req_arcs]:\n",
    "        add_arc(graph, row['n1'], row['n2'], key='A1', weight=row['weight'], required=True, bidirection=False)"
   ]
  },
  {
   "cell_type": "code",
   "execution_count": 30,
   "metadata": {},
   "outputs": [
    {
     "data": {
      "text/html": [
       "<div>\n",
       "<style scoped>\n",
       "    .dataframe tbody tr th:only-of-type {\n",
       "        vertical-align: middle;\n",
       "    }\n",
       "\n",
       "    .dataframe tbody tr th {\n",
       "        vertical-align: top;\n",
       "    }\n",
       "\n",
       "    .dataframe thead th {\n",
       "        text-align: right;\n",
       "    }\n",
       "</style>\n",
       "<table border=\"1\" class=\"dataframe\">\n",
       "  <thead>\n",
       "    <tr style=\"text-align: right;\">\n",
       "      <th></th>\n",
       "      <th>n1</th>\n",
       "      <th>n2</th>\n",
       "      <th>bidirectional</th>\n",
       "      <th>required</th>\n",
       "      <th>weight</th>\n",
       "    </tr>\n",
       "  </thead>\n",
       "  <tbody>\n",
       "    <tr>\n",
       "      <th>1</th>\n",
       "      <td>1</td>\n",
       "      <td>4</td>\n",
       "      <td>True</td>\n",
       "      <td>True</td>\n",
       "      <td>70</td>\n",
       "    </tr>\n",
       "    <tr>\n",
       "      <th>6</th>\n",
       "      <td>3</td>\n",
       "      <td>7</td>\n",
       "      <td>True</td>\n",
       "      <td>True</td>\n",
       "      <td>18</td>\n",
       "    </tr>\n",
       "    <tr>\n",
       "      <th>7</th>\n",
       "      <td>3</td>\n",
       "      <td>8</td>\n",
       "      <td>True</td>\n",
       "      <td>True</td>\n",
       "      <td>41</td>\n",
       "    </tr>\n",
       "    <tr>\n",
       "      <th>8</th>\n",
       "      <td>4</td>\n",
       "      <td>5</td>\n",
       "      <td>True</td>\n",
       "      <td>True</td>\n",
       "      <td>45</td>\n",
       "    </tr>\n",
       "    <tr>\n",
       "      <th>9</th>\n",
       "      <td>4</td>\n",
       "      <td>9</td>\n",
       "      <td>True</td>\n",
       "      <td>True</td>\n",
       "      <td>23</td>\n",
       "    </tr>\n",
       "    <tr>\n",
       "      <th>11</th>\n",
       "      <td>6</td>\n",
       "      <td>7</td>\n",
       "      <td>True</td>\n",
       "      <td>True</td>\n",
       "      <td>25</td>\n",
       "    </tr>\n",
       "    <tr>\n",
       "      <th>13</th>\n",
       "      <td>7</td>\n",
       "      <td>8</td>\n",
       "      <td>True</td>\n",
       "      <td>True</td>\n",
       "      <td>9</td>\n",
       "    </tr>\n",
       "    <tr>\n",
       "      <th>14</th>\n",
       "      <td>7</td>\n",
       "      <td>13</td>\n",
       "      <td>True</td>\n",
       "      <td>True</td>\n",
       "      <td>21</td>\n",
       "    </tr>\n",
       "    <tr>\n",
       "      <th>15</th>\n",
       "      <td>7</td>\n",
       "      <td>14</td>\n",
       "      <td>True</td>\n",
       "      <td>True</td>\n",
       "      <td>11</td>\n",
       "    </tr>\n",
       "    <tr>\n",
       "      <th>17</th>\n",
       "      <td>10</td>\n",
       "      <td>12</td>\n",
       "      <td>True</td>\n",
       "      <td>True</td>\n",
       "      <td>30</td>\n",
       "    </tr>\n",
       "    <tr>\n",
       "      <th>18</th>\n",
       "      <td>11</td>\n",
       "      <td>12</td>\n",
       "      <td>True</td>\n",
       "      <td>True</td>\n",
       "      <td>15</td>\n",
       "    </tr>\n",
       "    <tr>\n",
       "      <th>21</th>\n",
       "      <td>12</td>\n",
       "      <td>17</td>\n",
       "      <td>True</td>\n",
       "      <td>True</td>\n",
       "      <td>13</td>\n",
       "    </tr>\n",
       "    <tr>\n",
       "      <th>27</th>\n",
       "      <td>16</td>\n",
       "      <td>22</td>\n",
       "      <td>True</td>\n",
       "      <td>True</td>\n",
       "      <td>40</td>\n",
       "    </tr>\n",
       "    <tr>\n",
       "      <th>31</th>\n",
       "      <td>19</td>\n",
       "      <td>20</td>\n",
       "      <td>True</td>\n",
       "      <td>True</td>\n",
       "      <td>16</td>\n",
       "    </tr>\n",
       "    <tr>\n",
       "      <th>32</th>\n",
       "      <td>19</td>\n",
       "      <td>24</td>\n",
       "      <td>True</td>\n",
       "      <td>True</td>\n",
       "      <td>21</td>\n",
       "    </tr>\n",
       "    <tr>\n",
       "      <th>33</th>\n",
       "      <td>19</td>\n",
       "      <td>25</td>\n",
       "      <td>True</td>\n",
       "      <td>True</td>\n",
       "      <td>37</td>\n",
       "    </tr>\n",
       "    <tr>\n",
       "      <th>34</th>\n",
       "      <td>21</td>\n",
       "      <td>22</td>\n",
       "      <td>True</td>\n",
       "      <td>True</td>\n",
       "      <td>7</td>\n",
       "    </tr>\n",
       "  </tbody>\n",
       "</table>\n",
       "</div>"
      ],
      "text/plain": [
       "    n1  n2  bidirectional  required  weight\n",
       "1    1   4           True      True      70\n",
       "6    3   7           True      True      18\n",
       "7    3   8           True      True      41\n",
       "8    4   5           True      True      45\n",
       "9    4   9           True      True      23\n",
       "11   6   7           True      True      25\n",
       "13   7   8           True      True       9\n",
       "14   7  13           True      True      21\n",
       "15   7  14           True      True      11\n",
       "17  10  12           True      True      30\n",
       "18  11  12           True      True      15\n",
       "21  12  17           True      True      13\n",
       "27  16  22           True      True      40\n",
       "31  19  20           True      True      16\n",
       "32  19  24           True      True      21\n",
       "33  19  25           True      True      37\n",
       "34  21  22           True      True       7"
      ]
     },
     "execution_count": 30,
     "metadata": {},
     "output_type": "execute_result"
    }
   ],
   "source": [
    "edges_df[(edges_df['bidirectional']) & (edges_df['required'])]"
   ]
  },
  {
   "cell_type": "code",
   "execution_count": 31,
   "metadata": {},
   "outputs": [
    {
     "name": "stdout",
     "output_type": "stream",
     "text": [
      "{20: {'E1': {'weight': 16, 'bidirection': True, 'required': True}}, 24: {'E1': {'weight': 21, 'bidirection': True, 'required': True}}, 25: {'E1': {'weight': 37, 'bidirection': True, 'required': True}}}\n",
      "{24: {'A1': {'weight': 19, 'required': True, 'bidirection': False}}, 20: {'A1': {'weight': 12, 'required': True, 'bidirection': False}}, 19: {'E1': {'weight': 37, 'bidirection': True, 'required': True}}}\n"
     ]
    }
   ],
   "source": [
    "G_all_edges = nx.MultiGraph()\n",
    "G_req_edges = nx.MultiGraph()\n",
    "G_not_req_edges = nx.MultiGraph()\n",
    "G_req_edges = nx.MultiGraph()\n",
    "\n",
    "for i, row in edges_df[(edges_df['bidirectional']) & (edges_df['required'])].iterrows():\n",
    "    for graph in [G_all_edges, G_req_edges, G_all, G_req]: \n",
    "        graph.add_edge(row['n1'], row['n2'], key='E1', weight=row['weight'], bidirection=True, required=True)\n",
    "\n",
    "for i, row in edges_df[(edges_df['bidirectional']) & ~(edges_df['required'])].iterrows():\n",
    "    for graph in [G_all_edges, G_not_req_edges, G_all, G_not_req]: \n",
    "        graph.add_edge(row['n1'], row['n2'], key='E1', weight=row['weight'], bidirection=True, required=False)\n",
    "\n",
    "print(G_req._adj[19])    \n",
    "print(G_req._adj[25])    \n",
    "\n",
    "G_prime = deepcopy(G_req)\n",
    "# for i, row in edges_df[edges_df['required']].iterrows():\n",
    "#     G_prime.add_edge(row['n1'], row['n2'], weight=row['weight'], bidi)\n"
   ]
  },
  {
   "cell_type": "code",
   "execution_count": 32,
   "metadata": {},
   "outputs": [
    {
     "data": {
      "text/plain": [
       "{26: {'A1': {'weight': 21, 'required': False, 'bidirection': False}},\n",
       " 1: {'E1': {'weight': 35, 'bidirection': True, 'required': False}}}"
      ]
     },
     "execution_count": 32,
     "metadata": {},
     "output_type": "execute_result"
    }
   ],
   "source": [
    "G_all._adj[2]"
   ]
  },
  {
   "cell_type": "code",
   "execution_count": 33,
   "metadata": {},
   "outputs": [
    {
     "data": {
      "text/plain": [
       "[{1, 4, 5, 9},\n",
       " {2, 3, 6, 7, 8, 13, 14, 15},\n",
       " {10, 11, 12, 17},\n",
       " {18, 19, 20, 24, 25},\n",
       " {16, 21, 22, 23}]"
      ]
     },
     "execution_count": 33,
     "metadata": {},
     "output_type": "execute_result"
    }
   ],
   "source": [
    "list(nx.connected_components(G_req))"
   ]
  },
  {
   "cell_type": "markdown",
   "metadata": {},
   "source": [
    "***Create Gprime by adding links from pairs of V_R***"
   ]
  },
  {
   "cell_type": "code",
   "execution_count": 34,
   "metadata": {},
   "outputs": [],
   "source": [
    "from itertools import permutations\n",
    "from networkx.algorithms.shortest_paths import dijkstra_path, shortest_path_length\n",
    "from collections import defaultdict\n",
    "shortest_paths = defaultdict(dict)\n",
    "dijkstra_paths = defaultdict(dict)\n",
    "to_add = set()\n",
    "to_delete = set()\n",
    "for i, j in (permutations(V_r, 2)):\n",
    "    # check if already adjacent\n",
    "    if j in G_prime._adj.get(i, set()):\n",
    "        continue\n",
    "    \n",
    "    path_ij = shortest_paths.get(i, {}).get(j)\n",
    "    if path_ij is None:\n",
    "        path_ij = shortest_path_length(G_all, i, j, weight='weight')\n",
    "        shortest_paths[i][j] = path_ij\n",
    "        dijkstra_paths[i][j] = dijkstra_path(G_all, i, j, weight='weight')\n",
    "    delete_ij = False\n",
    "    for k in V_r - {i, j}:\n",
    "        path_ik = shortest_paths.get(i, {}).get(k)\n",
    "        if path_ik is None:\n",
    "            path_ik = shortest_path_length(G_all, i, k, weight='weight')\n",
    "            shortest_paths[i][k] = path_ik\n",
    "        path_kj = shortest_paths.get(k, {}).get(j)\n",
    "        if path_kj is None:\n",
    "            path_kj = shortest_path_length(G_all, k, j, weight='weight')\n",
    "            shortest_paths[k][j] = path_kj\n",
    "        if path_ik + path_kj <= path_ij:\n",
    "            delete_ij = True\n",
    "            break\n",
    "    if delete_ij:\n",
    "        to_delete.add((i, j))\n",
    "    else:\n",
    "        to_add.add((i, j))"
   ]
  },
  {
   "cell_type": "code",
   "execution_count": 35,
   "metadata": {},
   "outputs": [
    {
     "data": {
      "text/plain": [
       "{(1, 2),\n",
       " (2, 1),\n",
       " (2, 6),\n",
       " (2, 13),\n",
       " (5, 11),\n",
       " (6, 13),\n",
       " (11, 6),\n",
       " (11, 13),\n",
       " (12, 16),\n",
       " (13, 18),\n",
       " (13, 23),\n",
       " (14, 19),\n",
       " (15, 20),\n",
       " (16, 12),\n",
       " (17, 23),\n",
       " (18, 24),\n",
       " (19, 14),\n",
       " (20, 15),\n",
       " (23, 17),\n",
       " (24, 18)}"
      ]
     },
     "execution_count": 35,
     "metadata": {},
     "output_type": "execute_result"
    }
   ],
   "source": [
    "to_add"
   ]
  },
  {
   "cell_type": "code",
   "execution_count": 36,
   "metadata": {},
   "outputs": [
    {
     "name": "stdout",
     "output_type": "stream",
     "text": [
      "-------------\n",
      "adding(i:1, j:2)\n",
      "before\n",
      "{5: {'A1': {'weight': 32, 'required': True, 'bidirection': False}}, 4: {'E1': {'weight': 70, 'bidirection': True, 'required': True}}}\n",
      "{}\n",
      "after\n",
      "{5: {'A1': {'weight': 32, 'required': True, 'bidirection': False}}, 4: {'E1': {'weight': 70, 'bidirection': True, 'required': True}}, 2: {'A1': {'weight': 35, 'required': False, 'bidirection': False}}}\n",
      "{}\n",
      "-------------\n",
      "adding(i:2, j:6)\n",
      "before\n",
      "{}\n",
      "{7: {'E1': {'weight': 25, 'bidirection': True, 'required': True}}}\n",
      "after\n",
      "{6: {'A1': {'weight': 44, 'required': False, 'bidirection': False}}}\n",
      "{7: {'E1': {'weight': 25, 'bidirection': True, 'required': True}}}\n",
      "-------------\n",
      "adding(i:13, j:23)\n",
      "before\n",
      "{7: {'E1': {'weight': 21, 'bidirection': True, 'required': True}}}\n",
      "{22: {'A1': {'weight': 27, 'required': True, 'bidirection': False}}}\n",
      "after\n",
      "{7: {'E1': {'weight': 21, 'bidirection': True, 'required': True}}, 23: {'A1': {'weight': 30, 'required': False, 'bidirection': False}}}\n",
      "{22: {'A1': {'weight': 27, 'required': True, 'bidirection': False}}}\n",
      "-------------\n",
      "adding(i:17, j:23)\n",
      "before\n",
      "{12: {'E1': {'weight': 13, 'bidirection': True, 'required': True}}}\n",
      "{22: {'A1': {'weight': 27, 'required': True, 'bidirection': False}}}\n",
      "after\n",
      "{12: {'E1': {'weight': 13, 'bidirection': True, 'required': True}}, 23: {'A1': {'weight': 13, 'required': False, 'bidirection': False}}}\n",
      "{22: {'A1': {'weight': 27, 'required': True, 'bidirection': False}}}\n",
      "-------------\n",
      "adding(i:24, j:18)\n",
      "before\n",
      "{19: {'E1': {'weight': 21, 'bidirection': True, 'required': True}}}\n",
      "{19: {'A1': {'weight': 25, 'required': True, 'bidirection': False}}}\n",
      "after\n",
      "{19: {'E1': {'weight': 21, 'bidirection': True, 'required': True}}, 18: {'A1': {'weight': 16, 'required': False, 'bidirection': False}}}\n",
      "{19: {'A1': {'weight': 25, 'required': True, 'bidirection': False}}}\n",
      "-------------\n",
      "adding(i:5, j:11)\n",
      "before\n",
      "{4: {'E1': {'weight': 45, 'bidirection': True, 'required': True}}}\n",
      "{12: {'E1': {'weight': 15, 'bidirection': True, 'required': True}}}\n",
      "after\n",
      "{4: {'E1': {'weight': 45, 'bidirection': True, 'required': True}}, 11: {'A1': {'weight': 25, 'required': False, 'bidirection': False}}}\n",
      "{12: {'E1': {'weight': 15, 'bidirection': True, 'required': True}}}\n",
      "-------------\n",
      "adding(i:14, j:19)\n",
      "before\n",
      "{13: {'A1': {'weight': 15, 'required': True, 'bidirection': False}}, 15: {'A1': {'weight': 21, 'required': True, 'bidirection': False}}, 7: {'E1': {'weight': 11, 'bidirection': True, 'required': True}}}\n",
      "{20: {'E1': {'weight': 16, 'bidirection': True, 'required': True}}, 24: {'E1': {'weight': 21, 'bidirection': True, 'required': True}}, 25: {'E1': {'weight': 37, 'bidirection': True, 'required': True}}}\n",
      "after\n",
      "{13: {'A1': {'weight': 15, 'required': True, 'bidirection': False}}, 15: {'A1': {'weight': 21, 'required': True, 'bidirection': False}}, 7: {'E1': {'weight': 11, 'bidirection': True, 'required': True}}, 19: {'A1': {'weight': 8, 'required': False, 'bidirection': False}}}\n",
      "{20: {'E1': {'weight': 16, 'bidirection': True, 'required': True}}, 24: {'E1': {'weight': 21, 'bidirection': True, 'required': True}}, 25: {'E1': {'weight': 37, 'bidirection': True, 'required': True}}}\n",
      "-------------\n",
      "adding(i:15, j:20)\n",
      "before\n",
      "{}\n",
      "{19: {'E1': {'weight': 16, 'bidirection': True, 'required': True}}}\n",
      "after\n",
      "{20: {'A1': {'weight': 10, 'required': False, 'bidirection': False}}}\n",
      "{19: {'E1': {'weight': 16, 'bidirection': True, 'required': True}}}\n",
      "-------------\n",
      "adding(i:16, j:12)\n",
      "before\n",
      "{22: {'E1': {'weight': 40, 'bidirection': True, 'required': True}}}\n",
      "{10: {'E1': {'weight': 30, 'bidirection': True, 'required': True}}, 11: {'E1': {'weight': 15, 'bidirection': True, 'required': True}}, 17: {'E1': {'weight': 13, 'bidirection': True, 'required': True}}}\n",
      "after\n",
      "{22: {'E1': {'weight': 40, 'bidirection': True, 'required': True}}, 12: {'A1': {'weight': 15, 'required': False, 'bidirection': False}}}\n",
      "{10: {'E1': {'weight': 30, 'bidirection': True, 'required': True}}, 11: {'E1': {'weight': 15, 'bidirection': True, 'required': True}}, 17: {'E1': {'weight': 13, 'bidirection': True, 'required': True}}}\n",
      "-------------\n",
      "adding(i:18, j:24)\n",
      "before\n",
      "{19: {'A1': {'weight': 25, 'required': True, 'bidirection': False}}}\n",
      "{19: {'E1': {'weight': 21, 'bidirection': True, 'required': True}}, 18: {'A1': {'weight': 16, 'required': False, 'bidirection': False}}}\n",
      "after\n",
      "{19: {'A1': {'weight': 25, 'required': True, 'bidirection': False}}, 24: {'A1': {'weight': 16, 'required': False, 'bidirection': False}}}\n",
      "{19: {'E1': {'weight': 21, 'bidirection': True, 'required': True}}, 18: {'A1': {'weight': 16, 'required': False, 'bidirection': False}}}\n",
      "-------------\n",
      "adding(i:23, j:17)\n",
      "before\n",
      "{22: {'A1': {'weight': 27, 'required': True, 'bidirection': False}}}\n",
      "{12: {'E1': {'weight': 13, 'bidirection': True, 'required': True}}, 23: {'A1': {'weight': 13, 'required': False, 'bidirection': False}}}\n",
      "after\n",
      "{22: {'A1': {'weight': 27, 'required': True, 'bidirection': False}}, 17: {'A1': {'weight': 13, 'required': False, 'bidirection': False}}}\n",
      "{12: {'E1': {'weight': 13, 'bidirection': True, 'required': True}}, 23: {'A1': {'weight': 13, 'required': False, 'bidirection': False}}}\n",
      "-------------\n",
      "adding(i:2, j:1)\n",
      "before\n",
      "{6: {'A1': {'weight': 44, 'required': False, 'bidirection': False}}}\n",
      "{5: {'A1': {'weight': 32, 'required': True, 'bidirection': False}}, 4: {'E1': {'weight': 70, 'bidirection': True, 'required': True}}, 2: {'A1': {'weight': 35, 'required': False, 'bidirection': False}}}\n",
      "after\n",
      "{6: {'A1': {'weight': 44, 'required': False, 'bidirection': False}}, 1: {'A1': {'weight': 35, 'required': False, 'bidirection': False}}}\n",
      "{5: {'A1': {'weight': 32, 'required': True, 'bidirection': False}}, 4: {'E1': {'weight': 70, 'bidirection': True, 'required': True}}, 2: {'A1': {'weight': 35, 'required': False, 'bidirection': False}}}\n",
      "-------------\n",
      "adding(i:19, j:14)\n",
      "before\n",
      "{20: {'E1': {'weight': 16, 'bidirection': True, 'required': True}}, 24: {'E1': {'weight': 21, 'bidirection': True, 'required': True}}, 25: {'E1': {'weight': 37, 'bidirection': True, 'required': True}}}\n",
      "{13: {'A1': {'weight': 15, 'required': True, 'bidirection': False}}, 15: {'A1': {'weight': 21, 'required': True, 'bidirection': False}}, 7: {'E1': {'weight': 11, 'bidirection': True, 'required': True}}, 19: {'A1': {'weight': 8, 'required': False, 'bidirection': False}}}\n",
      "after\n",
      "{20: {'E1': {'weight': 16, 'bidirection': True, 'required': True}}, 24: {'E1': {'weight': 21, 'bidirection': True, 'required': True}}, 25: {'E1': {'weight': 37, 'bidirection': True, 'required': True}}, 14: {'A1': {'weight': 8, 'required': False, 'bidirection': False}}}\n",
      "{13: {'A1': {'weight': 15, 'required': True, 'bidirection': False}}, 15: {'A1': {'weight': 21, 'required': True, 'bidirection': False}}, 7: {'E1': {'weight': 11, 'bidirection': True, 'required': True}}, 19: {'A1': {'weight': 8, 'required': False, 'bidirection': False}}}\n",
      "-------------\n",
      "adding(i:2, j:13)\n",
      "before\n",
      "{6: {'A1': {'weight': 44, 'required': False, 'bidirection': False}}, 1: {'A1': {'weight': 35, 'required': False, 'bidirection': False}}}\n",
      "{7: {'E1': {'weight': 21, 'bidirection': True, 'required': True}}, 23: {'A1': {'weight': 30, 'required': False, 'bidirection': False}}}\n",
      "after\n",
      "{6: {'A1': {'weight': 44, 'required': False, 'bidirection': False}}, 1: {'A1': {'weight': 35, 'required': False, 'bidirection': False}}, 13: {'A1': {'weight': 39, 'required': False, 'bidirection': False}}}\n",
      "{7: {'E1': {'weight': 21, 'bidirection': True, 'required': True}}, 23: {'A1': {'weight': 30, 'required': False, 'bidirection': False}}}\n",
      "-------------\n",
      "adding(i:13, j:18)\n",
      "before\n",
      "{7: {'E1': {'weight': 21, 'bidirection': True, 'required': True}}, 23: {'A1': {'weight': 30, 'required': False, 'bidirection': False}}}\n",
      "{19: {'A1': {'weight': 25, 'required': True, 'bidirection': False}}, 24: {'A1': {'weight': 16, 'required': False, 'bidirection': False}}}\n",
      "after\n",
      "{7: {'E1': {'weight': 21, 'bidirection': True, 'required': True}}, 23: {'A1': {'weight': 30, 'required': False, 'bidirection': False}}, 18: {'A1': {'weight': 19, 'required': False, 'bidirection': False}}}\n",
      "{19: {'A1': {'weight': 25, 'required': True, 'bidirection': False}}, 24: {'A1': {'weight': 16, 'required': False, 'bidirection': False}}}\n",
      "-------------\n",
      "adding(i:6, j:13)\n",
      "before\n",
      "{7: {'E1': {'weight': 25, 'bidirection': True, 'required': True}}}\n",
      "{7: {'E1': {'weight': 21, 'bidirection': True, 'required': True}}, 23: {'A1': {'weight': 30, 'required': False, 'bidirection': False}}, 18: {'A1': {'weight': 19, 'required': False, 'bidirection': False}}}\n",
      "after\n",
      "{7: {'E1': {'weight': 25, 'bidirection': True, 'required': True}}, 13: {'A1': {'weight': 9, 'required': False, 'bidirection': False}}}\n",
      "{7: {'E1': {'weight': 21, 'bidirection': True, 'required': True}}, 23: {'A1': {'weight': 30, 'required': False, 'bidirection': False}}, 18: {'A1': {'weight': 19, 'required': False, 'bidirection': False}}}\n",
      "-------------\n",
      "adding(i:12, j:16)\n",
      "before\n",
      "{10: {'E1': {'weight': 30, 'bidirection': True, 'required': True}}, 11: {'E1': {'weight': 15, 'bidirection': True, 'required': True}}, 17: {'E1': {'weight': 13, 'bidirection': True, 'required': True}}}\n",
      "{22: {'E1': {'weight': 40, 'bidirection': True, 'required': True}}, 12: {'A1': {'weight': 15, 'required': False, 'bidirection': False}}}\n",
      "after\n",
      "{10: {'E1': {'weight': 30, 'bidirection': True, 'required': True}}, 11: {'E1': {'weight': 15, 'bidirection': True, 'required': True}}, 17: {'E1': {'weight': 13, 'bidirection': True, 'required': True}}, 16: {'A1': {'weight': 15, 'required': False, 'bidirection': False}}}\n",
      "{22: {'E1': {'weight': 40, 'bidirection': True, 'required': True}}, 12: {'A1': {'weight': 15, 'required': False, 'bidirection': False}}}\n",
      "-------------\n",
      "adding(i:20, j:15)\n",
      "before\n",
      "{19: {'E1': {'weight': 16, 'bidirection': True, 'required': True}}}\n",
      "{20: {'A1': {'weight': 10, 'required': False, 'bidirection': False}}}\n",
      "after\n",
      "{19: {'E1': {'weight': 16, 'bidirection': True, 'required': True}}, 15: {'A1': {'weight': 10, 'required': False, 'bidirection': False}}}\n",
      "{20: {'A1': {'weight': 10, 'required': False, 'bidirection': False}}}\n",
      "-------------\n",
      "adding(i:11, j:6)\n",
      "before\n",
      "{12: {'E1': {'weight': 15, 'bidirection': True, 'required': True}}}\n",
      "{7: {'E1': {'weight': 25, 'bidirection': True, 'required': True}}, 13: {'A1': {'weight': 9, 'required': False, 'bidirection': False}}}\n",
      "after\n",
      "{12: {'E1': {'weight': 15, 'bidirection': True, 'required': True}}, 6: {'A1': {'weight': 19, 'required': False, 'bidirection': False}}}\n",
      "{7: {'E1': {'weight': 25, 'bidirection': True, 'required': True}}, 13: {'A1': {'weight': 9, 'required': False, 'bidirection': False}}}\n",
      "-------------\n",
      "adding(i:11, j:13)\n",
      "before\n",
      "{12: {'E1': {'weight': 15, 'bidirection': True, 'required': True}}, 6: {'A1': {'weight': 19, 'required': False, 'bidirection': False}}}\n",
      "{7: {'E1': {'weight': 21, 'bidirection': True, 'required': True}}, 23: {'A1': {'weight': 30, 'required': False, 'bidirection': False}}, 18: {'A1': {'weight': 19, 'required': False, 'bidirection': False}}}\n",
      "after\n",
      "{12: {'E1': {'weight': 15, 'bidirection': True, 'required': True}}, 6: {'A1': {'weight': 19, 'required': False, 'bidirection': False}}, 13: {'A1': {'weight': 14, 'required': False, 'bidirection': False}}}\n",
      "{7: {'E1': {'weight': 21, 'bidirection': True, 'required': True}}, 23: {'A1': {'weight': 30, 'required': False, 'bidirection': False}}, 18: {'A1': {'weight': 19, 'required': False, 'bidirection': False}}}\n"
     ]
    }
   ],
   "source": [
    "for i, j in to_add:\n",
    "    print('-------------')\n",
    "    print('adding(i:{}, j:{})'.format(i, j))\n",
    "    print('before')\n",
    "    print(G_prime.adj[i])\n",
    "    print(G_prime.adj[j])\n",
    "    add_arc(G_prime, i, j, weight=shortest_paths[i][j], required=False, bidirection=False)\n",
    "    print('after')\n",
    "    print(G_prime.adj[i])\n",
    "    print(G_prime.adj[j])\n"
   ]
  },
  {
   "cell_type": "code",
   "execution_count": 37,
   "metadata": {},
   "outputs": [
    {
     "data": {
      "text/plain": [
       "{22: {'E1': {'weight': 40, 'bidirection': True, 'required': True}},\n",
       " 12: {'A1': {'weight': 15, 'required': False, 'bidirection': False}}}"
      ]
     },
     "execution_count": 37,
     "metadata": {},
     "output_type": "execute_result"
    }
   ],
   "source": [
    "G_prime._adj[16]"
   ]
  },
  {
   "cell_type": "code",
   "execution_count": 38,
   "metadata": {},
   "outputs": [
    {
     "data": {
      "text/plain": [
       "{26: {'A1': {'weight': 21, 'required': False, 'bidirection': False}},\n",
       " 1: {'E1': {'weight': 35, 'bidirection': True, 'required': False}}}"
      ]
     },
     "execution_count": 38,
     "metadata": {},
     "output_type": "execute_result"
    }
   ],
   "source": [
    "G_all._adj[2]"
   ]
  },
  {
   "cell_type": "code",
   "execution_count": 39,
   "metadata": {},
   "outputs": [],
   "source": [
    "# replace required Edges with arcs\n",
    "# reducing the number of conneted components induced by the set E_R U A_R in G'\n",
    "# computing the minimum number of times some arcs have to be traversed"
   ]
  },
  {
   "cell_type": "code",
   "execution_count": 63,
   "metadata": {},
   "outputs": [],
   "source": [
    "def is_cut_edge(G, i, j):\n",
    "    Gc = deepcopy(G)\n",
    "    Gc.remove_edges_from([(i, j)])\n",
    "    Gc1 = deepcopy(Gc)\n",
    "    Gc2 = deepcopy(Gc)\n",
    "    add_arc(Gc1, i, j, key='A1', weight=1, required=False)\n",
    "    add_arc(Gc2, j, i, key='A1', weight=1, required=False)\n",
    "    return not nx.is_strongly_connected(Gc1), not nx.is_strongly_connected(Gc2)\n",
    "\n",
    "\n",
    "def is_cut_arc(G, i, j):\n",
    "    Gc = deepcopy(G)\n",
    "    remove_arc_from(Gc, i, j)\n",
    "    return not nx.is_strongly_connected(Gc)"
   ]
  },
  {
   "cell_type": "code",
   "execution_count": 64,
   "metadata": {},
   "outputs": [
    {
     "name": "stdout",
     "output_type": "stream",
     "text": [
      "[[1, 4, 'E1'], [3, 7, 'E1'], [3, 8, 'E1'], [6, 7, 'E1'], [11, 12, 'E1'], [19, 20, 'E1'], [19, 24, 'E1'], [4, 5, 'E1'], [7, 8, 'E1'], [7, 13, 'E1'], [7, 14, 'E1'], [12, 17, 'E1'], [16, 22, 'E1']]\n"
     ]
    },
    {
     "ename": "NetworkXNotImplemented",
     "evalue": "not implemented for undirected type",
     "output_type": "error",
     "traceback": [
      "\u001b[1;31m---------------------------------------------------------------------------\u001b[0m",
      "\u001b[1;31mNetworkXNotImplemented\u001b[0m                    Traceback (most recent call last)",
      "\u001b[1;32m<ipython-input-64-a49d2beb95fa>\u001b[0m in \u001b[0;36m<module>\u001b[1;34m\u001b[0m\n\u001b[0;32m      6\u001b[0m     \u001b[0mdata\u001b[0m \u001b[1;33m=\u001b[0m \u001b[0mG_prime\u001b[0m\u001b[1;33m.\u001b[0m\u001b[0mget_edge_data\u001b[0m\u001b[1;33m(\u001b[0m\u001b[0mi\u001b[0m\u001b[1;33m,\u001b[0m \u001b[0mj\u001b[0m\u001b[1;33m)\u001b[0m\u001b[1;33m\u001b[0m\u001b[0m\n\u001b[0;32m      7\u001b[0m     \u001b[1;31m#print(data)\u001b[0m\u001b[1;33m\u001b[0m\u001b[1;33m\u001b[0m\u001b[0m\n\u001b[1;32m----> 8\u001b[1;33m     \u001b[0mprint\u001b[0m\u001b[1;33m(\u001b[0m\u001b[0mi\u001b[0m\u001b[1;33m,\u001b[0m \u001b[0mj\u001b[0m\u001b[1;33m,\u001b[0m \u001b[0mis_cut_edge\u001b[0m\u001b[1;33m(\u001b[0m\u001b[0mG_prime\u001b[0m\u001b[1;33m,\u001b[0m \u001b[0mi\u001b[0m\u001b[1;33m,\u001b[0m \u001b[0mj\u001b[0m\u001b[1;33m)\u001b[0m\u001b[1;33m)\u001b[0m\u001b[1;33m\u001b[0m\u001b[0m\n\u001b[0m\u001b[0;32m      9\u001b[0m     \u001b[0mcut_edge\u001b[0m \u001b[1;33m=\u001b[0m \u001b[0mis_cut_edge\u001b[0m\u001b[1;33m(\u001b[0m\u001b[0mG_prime\u001b[0m\u001b[1;33m,\u001b[0m \u001b[0mi\u001b[0m\u001b[1;33m,\u001b[0m \u001b[0mj\u001b[0m\u001b[1;33m)\u001b[0m\u001b[1;33m\u001b[0m\u001b[0m\n\u001b[0;32m     10\u001b[0m     \u001b[0mcut_edges\u001b[0m\u001b[1;33m[\u001b[0m\u001b[1;33m(\u001b[0m\u001b[0mi\u001b[0m\u001b[1;33m,\u001b[0m \u001b[0mj\u001b[0m\u001b[1;33m)\u001b[0m\u001b[1;33m]\u001b[0m \u001b[1;33m=\u001b[0m \u001b[0mcut_edge\u001b[0m\u001b[1;33m\u001b[0m\u001b[0m\n",
      "\u001b[1;32m<ipython-input-63-3c3839243a99>\u001b[0m in \u001b[0;36mis_cut_edge\u001b[1;34m(G, i, j)\u001b[0m\n\u001b[0;32m      6\u001b[0m     \u001b[0madd_arc\u001b[0m\u001b[1;33m(\u001b[0m\u001b[0mGc1\u001b[0m\u001b[1;33m,\u001b[0m \u001b[0mi\u001b[0m\u001b[1;33m,\u001b[0m \u001b[0mj\u001b[0m\u001b[1;33m,\u001b[0m \u001b[0mkey\u001b[0m\u001b[1;33m=\u001b[0m\u001b[1;34m'A1'\u001b[0m\u001b[1;33m,\u001b[0m \u001b[0mweight\u001b[0m\u001b[1;33m=\u001b[0m\u001b[1;36m1\u001b[0m\u001b[1;33m,\u001b[0m \u001b[0mrequired\u001b[0m\u001b[1;33m=\u001b[0m\u001b[1;32mFalse\u001b[0m\u001b[1;33m)\u001b[0m\u001b[1;33m\u001b[0m\u001b[0m\n\u001b[0;32m      7\u001b[0m     \u001b[0madd_arc\u001b[0m\u001b[1;33m(\u001b[0m\u001b[0mGc2\u001b[0m\u001b[1;33m,\u001b[0m \u001b[0mj\u001b[0m\u001b[1;33m,\u001b[0m \u001b[0mi\u001b[0m\u001b[1;33m,\u001b[0m \u001b[0mkey\u001b[0m\u001b[1;33m=\u001b[0m\u001b[1;34m'A1'\u001b[0m\u001b[1;33m,\u001b[0m \u001b[0mweight\u001b[0m\u001b[1;33m=\u001b[0m\u001b[1;36m1\u001b[0m\u001b[1;33m,\u001b[0m \u001b[0mrequired\u001b[0m\u001b[1;33m=\u001b[0m\u001b[1;32mFalse\u001b[0m\u001b[1;33m)\u001b[0m\u001b[1;33m\u001b[0m\u001b[0m\n\u001b[1;32m----> 8\u001b[1;33m     \u001b[1;32mreturn\u001b[0m \u001b[1;32mnot\u001b[0m \u001b[0mnx\u001b[0m\u001b[1;33m.\u001b[0m\u001b[0mis_strongly_connected\u001b[0m\u001b[1;33m(\u001b[0m\u001b[0mGc1\u001b[0m\u001b[1;33m)\u001b[0m\u001b[1;33m,\u001b[0m \u001b[1;32mnot\u001b[0m \u001b[0mnx\u001b[0m\u001b[1;33m.\u001b[0m\u001b[0mis_strongly_connected\u001b[0m\u001b[1;33m(\u001b[0m\u001b[0mGc2\u001b[0m\u001b[1;33m)\u001b[0m\u001b[1;33m\u001b[0m\u001b[0m\n\u001b[0m\u001b[0;32m      9\u001b[0m \u001b[1;33m\u001b[0m\u001b[0m\n\u001b[0;32m     10\u001b[0m \u001b[1;33m\u001b[0m\u001b[0m\n",
      "\u001b[1;32m<c:\\users\\mwongkee\\anaconda3\\envs\\postman\\lib\\site-packages\\decorator.py:decorator-gen-224>\u001b[0m in \u001b[0;36mis_strongly_connected\u001b[1;34m(G)\u001b[0m\n",
      "\u001b[1;32mc:\\users\\mwongkee\\anaconda3\\envs\\postman\\lib\\site-packages\\networkx\\utils\\decorators.py\u001b[0m in \u001b[0;36m_not_implemented_for\u001b[1;34m(f, *args, **kwargs)\u001b[0m\n\u001b[0;32m     66\u001b[0m         \u001b[1;32mif\u001b[0m \u001b[0mmatch\u001b[0m\u001b[1;33m:\u001b[0m\u001b[1;33m\u001b[0m\u001b[0m\n\u001b[0;32m     67\u001b[0m             raise nx.NetworkXNotImplemented('not implemented for %s type' %\n\u001b[1;32m---> 68\u001b[1;33m                                             ' '.join(graph_types))\n\u001b[0m\u001b[0;32m     69\u001b[0m         \u001b[1;32melse\u001b[0m\u001b[1;33m:\u001b[0m\u001b[1;33m\u001b[0m\u001b[0m\n\u001b[0;32m     70\u001b[0m             \u001b[1;32mreturn\u001b[0m \u001b[0mf\u001b[0m\u001b[1;33m(\u001b[0m\u001b[1;33m*\u001b[0m\u001b[0margs\u001b[0m\u001b[1;33m,\u001b[0m \u001b[1;33m**\u001b[0m\u001b[0mkwargs\u001b[0m\u001b[1;33m)\u001b[0m\u001b[1;33m\u001b[0m\u001b[0m\n",
      "\u001b[1;31mNetworkXNotImplemented\u001b[0m: not implemented for undirected type"
     ]
    }
   ],
   "source": [
    "cut_edges = {}\n",
    "\n",
    "edges = get_multi_mixed_edges(G_prime)\n",
    "print(edges)\n",
    "for i, j, key in edges:\n",
    "    data = G_prime.get_edge_data(i, j)\n",
    "    #print(data)\n",
    "    print(i, j, is_cut_edge(G_prime, i, j))\n",
    "    cut_edge = is_cut_edge(G_prime, i, j)\n",
    "    cut_edges[(i, j)] = cut_edge\n",
    "\n",
    "    # if an edge is a cutting edge in 1 direction, then it will not\n",
    "    # be traversed the other way in an optimal solution\n",
    "\n",
    "    if not cut_edge[0] and cut_edge[1]:\n",
    "        print('removing from {} to {}'.format(j, i))\n",
    "        orig_weight = G_prime.get_edge_data(i, j)[key]['weight']\n",
    "        print('weight', G_prime.get_edge_data(i, j), orig_weight)\n",
    "        G_prime.remove_edges_from([(j, i)])\n",
    "        add_arc(G_prime, i, j, key='A1', weight=orig_weight, required=True, bidirection=False)\n",
    "\n",
    "        print(G_prime.get_edge_data(i, j))\n",
    "\n",
    "    elif not cut_edge[1] and cut_edge[0]:\n",
    "        print('removing from {} to {}'.format(i, j))\n",
    "        orig_weight = G_prime.get_edge_data(j, i)[key]['weight']\n",
    "        print('weight', G_prime.get_edge_data(j, i), orig_weight)\n",
    "\n",
    "        G_prime.remove_edges_from([(i, j)])\n",
    "        add_arc(G_prime, j, i, key='A1', weight=orig_weight, required=True, bidirection=False)\n",
    "\n",
    "        print(G_prime.get_edge_data(j, i))\n",
    "\n",
    "    # if an edge is a cut edge then it must be traversed exactly once in each direction\n",
    "    # by each direction by every optimal solution"
   ]
  },
  {
   "cell_type": "code",
   "execution_count": 44,
   "metadata": {},
   "outputs": [
    {
     "name": "stdout",
     "output_type": "stream",
     "text": [
      "[[1, 5, 'A1'], [1, 2, 'A1'], [5, 11, 'A1'], [3, 2, 'A1'], [3, 6, 'A1'], [2, 6, 'A1'], [2, 1, 'A1'], [2, 13, 'A1'], [6, 13, 'A1'], [10, 11, 'A1'], [11, 6, 'A1'], [11, 13, 'A1'], [14, 13, 'A1'], [14, 15, 'A1'], [14, 19, 'A1'], [13, 23, 'A1'], [13, 18, 'A1'], [15, 20, 'A1'], [18, 19, 'A1'], [18, 24, 'A1'], [19, 14, 'A1'], [19, 25, 'A1'], [23, 22, 'A1'], [23, 17, 'A1'], [22, 21, 'A1'], [25, 24, 'A1'], [25, 20, 'A1'], [24, 18, 'A1'], [20, 15, 'A1'], [4, 9, 'A1'], [12, 16, 'A1'], [12, 10, 'A1'], [17, 23, 'A1'], [16, 12, 'A1']]\n",
      "19 25 True\n",
      "22 21 True\n",
      "4 9 True\n",
      "12 10 True\n"
     ]
    }
   ],
   "source": [
    "cut_arcs = {}\n",
    "\n",
    "arcs = get_multi_mixed_arcs(G_prime)\n",
    "print(arcs)\n",
    "for i, j, key in arcs:\n",
    "    data = G_prime.get_edge_data(i, j, key)\n",
    "    #print(i, j, data)\n",
    "    is_cut = is_cut_arc(G_prime, i, j)\n",
    "    if is_cut:\n",
    "        print(i, j, is_cut_arc(G_prime, i, j))\n",
    "        cut_arcs[(i, j)] = is_cut\n",
    "            \n",
    "        # if an edge is a cutting edge in 1 direction, then it will not\n",
    "        # be traversed the other way in an optimal solution\n",
    "        \n",
    "        \n",
    "        # not doing anything with this now"
   ]
  },
  {
   "cell_type": "code",
   "execution_count": 46,
   "metadata": {},
   "outputs": [
    {
     "data": {
      "text/plain": [
       "{22: {'E1': {'weight': 40, 'bidirection': True, 'required': True}},\n",
       " 12: {'A1': {'weight': 15, 'required': False, 'bidirection': False}}}"
      ]
     },
     "execution_count": 46,
     "metadata": {},
     "output_type": "execute_result"
    }
   ],
   "source": [
    "G_prime._adj[16]"
   ]
  },
  {
   "cell_type": "code",
   "execution_count": 48,
   "metadata": {},
   "outputs": [
    {
     "data": {
      "text/plain": [
       "{16: {'E1': {'weight': 40, 'bidirection': True, 'required': True}},\n",
       " 21: {'A1': {'weight': 7, 'required': True, 'bidirection': False}}}"
      ]
     },
     "execution_count": 48,
     "metadata": {},
     "output_type": "execute_result"
    }
   ],
   "source": [
    "G_prime._adj[22]"
   ]
  },
  {
   "cell_type": "code",
   "execution_count": 52,
   "metadata": {},
   "outputs": [],
   "source": [
    "G_all_copy = deepcopy(G_all)"
   ]
  },
  {
   "cell_type": "code",
   "execution_count": 53,
   "metadata": {},
   "outputs": [],
   "source": [
    "G_all_copy.remove_edge(12, 16)"
   ]
  },
  {
   "cell_type": "code",
   "execution_count": 58,
   "metadata": {},
   "outputs": [],
   "source": [
    "DG = nx.DiGraph()\n",
    "DG.add_edge(1, 2)\n",
    "DG.add_edge(1, 3)"
   ]
  },
  {
   "cell_type": "code",
   "execution_count": 61,
   "metadata": {},
   "outputs": [
    {
     "data": {
      "text/plain": [
       "<generator object strongly_connected_components at 0x0000017D226AAE08>"
      ]
     },
     "execution_count": 61,
     "metadata": {},
     "output_type": "execute_result"
    }
   ],
   "source": [
    "nx.strongly_connected_components(DG)"
   ]
  },
  {
   "cell_type": "code",
   "execution_count": 55,
   "metadata": {},
   "outputs": [
    {
     "data": {
      "text/plain": [
       "[{1,\n",
       "  2,\n",
       "  3,\n",
       "  4,\n",
       "  5,\n",
       "  6,\n",
       "  7,\n",
       "  8,\n",
       "  9,\n",
       "  10,\n",
       "  11,\n",
       "  12,\n",
       "  13,\n",
       "  14,\n",
       "  15,\n",
       "  16,\n",
       "  17,\n",
       "  18,\n",
       "  19,\n",
       "  20,\n",
       "  21,\n",
       "  22,\n",
       "  23,\n",
       "  24,\n",
       "  25,\n",
       "  26,\n",
       "  27,\n",
       "  28,\n",
       "  29,\n",
       "  30}]"
      ]
     },
     "execution_count": 55,
     "metadata": {},
     "output_type": "execute_result"
    }
   ],
   "source": [
    "list(nx.connected_components(G_all_copy))"
   ]
  },
  {
   "cell_type": "code",
   "execution_count": 33,
   "metadata": {},
   "outputs": [],
   "source": [
    "edges = get_multi_mixed_edges(G_prime)\n",
    "arcs = get_multi_mixed_arcs(G_prime)"
   ]
  },
  {
   "cell_type": "code",
   "execution_count": 35,
   "metadata": {},
   "outputs": [
    {
     "data": {
      "text/plain": [
       "[[1, 5, 'A1'],\n",
       " [1, 2, 'A1'],\n",
       " [5, 11, 'A1'],\n",
       " [3, 2, 'A1'],\n",
       " [3, 6, 'A1'],\n",
       " [2, 6, 'A1'],\n",
       " [2, 1, 'A1'],\n",
       " [2, 13, 'A1'],\n",
       " [6, 13, 'A1'],\n",
       " [10, 11, 'A1'],\n",
       " [11, 6, 'A1'],\n",
       " [11, 13, 'A1'],\n",
       " [14, 13, 'A1'],\n",
       " [14, 15, 'A1'],\n",
       " [14, 19, 'A1'],\n",
       " [13, 23, 'A1'],\n",
       " [13, 18, 'A1'],\n",
       " [15, 20, 'A1'],\n",
       " [18, 19, 'A1'],\n",
       " [18, 24, 'A1'],\n",
       " [19, 14, 'A1'],\n",
       " [19, 25, 'A1'],\n",
       " [23, 22, 'A1'],\n",
       " [23, 17, 'A1'],\n",
       " [22, 21, 'A1'],\n",
       " [25, 24, 'A1'],\n",
       " [25, 20, 'A1'],\n",
       " [24, 18, 'A1'],\n",
       " [20, 15, 'A1'],\n",
       " [4, 9, 'A1'],\n",
       " [12, 16, 'A1'],\n",
       " [12, 10, 'A1'],\n",
       " [17, 23, 'A1'],\n",
       " [16, 12, 'A1']]"
      ]
     },
     "execution_count": 35,
     "metadata": {},
     "output_type": "execute_result"
    }
   ],
   "source": [
    "arcs"
   ]
  },
  {
   "cell_type": "code",
   "execution_count": null,
   "metadata": {},
   "outputs": [],
   "source": [
    "def get_in_out_degree(G, i, in_out='in', only_required=True):\n",
    "    neighbors = G.neighbors(i)\n",
    "    in_out_degree = 0\n",
    "    for n in neighbors:\n",
    "        if in_out == 'in':\n",
    "            edge_data = G.get_edge_data(n, i)\n",
    "        else:\n",
    "            edge_data = G.get_edge_data(i, n)\n",
    "        if edge_data:\n",
    "            for v in edge_data.values():\n",
    "                if only_required == False or v['required'] == True:\n",
    "                    if v['bidirection'] == False:\n",
    "                        in_out_degree += 1\n",
    "    return in_out_degree\n",
    "\n",
    "def get_in_degree(G, i, only_required=True):\n",
    "    return get_in_out_degree(G, i, 'in', only_required)\n",
    "\n",
    "def get_out_degree(G, i, only_required=True):\n",
    "    return get_in_out_degree(G, i, 'out', only_required)\n",
    "\n",
    "def get_degree(G, i, only_required=True):\n",
    "    return get_in_degree(G, i, only_required) - get_out_degree(G, i, only_required)"
   ]
  },
  {
   "cell_type": "code",
   "execution_count": 2,
   "metadata": {},
   "outputs": [
    {
     "ename": "NameError",
     "evalue": "name 'get_in_degree' is not defined",
     "output_type": "error",
     "traceback": [
      "\u001b[1;31m---------------------------------------------------------------------------\u001b[0m",
      "\u001b[1;31mNameError\u001b[0m                                 Traceback (most recent call last)",
      "\u001b[1;32m<ipython-input-2-b2e62b94caad>\u001b[0m in \u001b[0;36m<module>\u001b[1;34m\u001b[0m\n\u001b[1;32m----> 1\u001b[1;33m \u001b[0mget_in_degree\u001b[0m\u001b[1;33m(\u001b[0m\u001b[0mG_prime\u001b[0m\u001b[1;33m,\u001b[0m \u001b[1;36m1\u001b[0m\u001b[1;33m)\u001b[0m\u001b[1;33m\u001b[0m\u001b[0m\n\u001b[0m",
      "\u001b[1;31mNameError\u001b[0m: name 'get_in_degree' is not defined"
     ]
    }
   ],
   "source": [
    "get_in_degree(G_prime, 1)"
   ]
  },
  {
   "cell_type": "code",
   "execution_count": 25,
   "metadata": {},
   "outputs": [
    {
     "data": {
      "text/plain": [
       "1"
      ]
     },
     "execution_count": 25,
     "metadata": {},
     "output_type": "execute_result"
    }
   ],
   "source": [
    "get_out_degree(G_prime, 1)"
   ]
  },
  {
   "cell_type": "code",
   "execution_count": 26,
   "metadata": {},
   "outputs": [
    {
     "data": {
      "text/plain": [
       "-1"
      ]
     },
     "execution_count": 26,
     "metadata": {},
     "output_type": "execute_result"
    }
   ],
   "source": [
    "get_degree(G_prime, 1)"
   ]
  },
  {
   "cell_type": "code",
   "execution_count": 29,
   "metadata": {},
   "outputs": [
    {
     "data": {
      "text/plain": [
       "[(1, 5, 'A1'),\n",
       " (1, 4, 'E1'),\n",
       " (1, 2, 'A1'),\n",
       " (5, 4, 'E1'),\n",
       " (5, 11, 'A1'),\n",
       " (3, 2, 'A1'),\n",
       " (3, 6, 'A1'),\n",
       " (3, 7, 'E1'),\n",
       " (3, 8, 'E1'),\n",
       " (2, 6, 'A1'),\n",
       " (2, 13, 'A1'),\n",
       " (6, 7, 'E1'),\n",
       " (6, 13, 'A1'),\n",
       " (10, 11, 'A1'),\n",
       " (11, 12, 'E1'),\n",
       " (11, 13, 'A1'),\n",
       " (14, 13, 'A1'),\n",
       " (14, 15, 'A1'),\n",
       " (14, 7, 'E1'),\n",
       " (14, 19, 'A1'),\n",
       " (13, 7, 'E1'),\n",
       " (13, 23, 'A1'),\n",
       " (13, 18, 'A1'),\n",
       " (15, 20, 'A1'),\n",
       " (18, 19, 'A1'),\n",
       " (18, 24, 'A1'),\n",
       " (19, 20, 'E1'),\n",
       " (19, 24, 'E1'),\n",
       " (19, 25, 'A1'),\n",
       " (23, 22, 'A1'),\n",
       " (23, 17, 'A1'),\n",
       " (22, 16, 'E1'),\n",
       " (22, 21, 'A1'),\n",
       " (25, 24, 'A1'),\n",
       " (25, 20, 'A1'),\n",
       " (4, 9, 'A1'),\n",
       " (7, 8, 'E1'),\n",
       " (12, 17, 'E1'),\n",
       " (12, 16, 'A1')]"
      ]
     },
     "execution_count": 29,
     "metadata": {},
     "output_type": "execute_result"
    }
   ],
   "source": [
    "list(G_prime.edges)"
   ]
  },
  {
   "cell_type": "code",
   "execution_count": 41,
   "metadata": {},
   "outputs": [
    {
     "name": "stdout",
     "output_type": "stream",
     "text": [
      "removing arc 1->2 A1\n",
      "removing arc 2->1 A1\n",
      "removing arc 5->11 A1\n",
      "removing arc 2->6 A1\n",
      "removing arc 2->13 A1\n",
      "removing arc 6->13 A1\n",
      "removing arc 11->13 A1\n",
      "removing arc 14->19 A1\n",
      "removing arc 19->14 A1\n",
      "removing arc 13->23 A1\n",
      "removing arc 13->18 A1\n",
      "removing arc 15->20 A1\n",
      "removing arc 20->15 A1\n",
      "removing arc 18->24 A1\n",
      "removing arc 24->18 A1\n",
      "removing arc 23->17 A1\n",
      "removing arc 17->23 A1\n",
      "removing arc 12->16 A1\n",
      "removing arc 16->12 A1\n"
     ]
    }
   ],
   "source": [
    "G_prime_req = deepcopy(G_prime)\n",
    "edges = deepcopy(G_prime_req.edges)\n",
    "for edge in edges:\n",
    "    i, j, key = edge\n",
    "    if j in G_prime_req._adj[i]:\n",
    "        edge_data = G_prime_req.get_edge_data(i, j, key=key)\n",
    "        if edge_data and edge_data['required'] == False:\n",
    "            if edge_data['bidirection']:\n",
    "                print('removing edge {}->{} {}'.format(i, j, key))\n",
    "                G_prime_req.remove_edge(i, j, key=key)\n",
    "            else:\n",
    "                remove_arc_from(G_prime_req, i, j, key=key)\n",
    "                print('removing arc {}->{} {}'.format(i, j, key))\n",
    "\n",
    "    if i in G_prime_req._adj[j]:\n",
    "        edge_data = G_prime_req.get_edge_data(j, i, key=key)\n",
    "        if edge_data and edge_data['required'] == False:\n",
    "            if edge_data['bidirection']:\n",
    "                print('removing edge {}->{} {}'.format(i, j, key))\n",
    "                G_prime_req.remove_edge(i, j, key=key)\n",
    "            else:\n",
    "                remove_arc_from(G_prime_req, j, i, key=key)\n",
    "                print('removing arc {}->{} {}'.format(j, i, key))\n",
    "            \n",
    "\n"
   ]
  },
  {
   "cell_type": "code",
   "execution_count": 43,
   "metadata": {},
   "outputs": [
    {
     "data": {
      "text/plain": [
       "[{1, 4, 5, 9},\n",
       " {2, 3, 6, 7, 8, 13, 14, 15},\n",
       " {2, 3, 6, 7, 8, 10, 11, 12, 13, 14, 15, 17},\n",
       " {18, 19, 20, 24, 25},\n",
       " {16, 21, 22, 23}]"
      ]
     },
     "execution_count": 43,
     "metadata": {},
     "output_type": "execute_result"
    }
   ],
   "source": [
    "list(nx.connected_components(G_prime_req))"
   ]
  },
  {
   "cell_type": "code",
   "execution_count": 50,
   "metadata": {},
   "outputs": [
    {
     "data": {
      "text/plain": [
       "{22: {'E1': {'weight': 40, 'bidirection': True, 'required': True}},\n",
       " 12: {'A1': {'weight': 15, 'required': False, 'bidirection': False}}}"
      ]
     },
     "execution_count": 50,
     "metadata": {},
     "output_type": "execute_result"
    }
   ],
   "source": [
    "G_prime._adj[16]"
   ]
  },
  {
   "cell_type": "code",
   "execution_count": 29,
   "metadata": {},
   "outputs": [
    {
     "data": {
      "text/plain": [
       "[{1, 4, 5, 9},\n",
       " {1, 2, 3, 4, 5, 6, 7, 8, 9, 13, 14, 15},\n",
       " {1, 2, 3, 4, 5, 6, 7, 8, 9, 10, 11, 12, 13, 14, 15, 16, 17, 21, 22, 23},\n",
       " {1, 2, 3, 4, 5, 6, 7, 8, 9, 13, 14, 15, 18, 19, 20, 24, 25}]"
      ]
     },
     "execution_count": 29,
     "metadata": {},
     "output_type": "execute_result"
    }
   ],
   "source": [
    "list(nx.connected_components(G_prime_req))"
   ]
  },
  {
   "cell_type": "code",
   "execution_count": 33,
   "metadata": {},
   "outputs": [
    {
     "data": {
      "text/plain": [
       "{'A1': {'weight': 35, 'required': False, 'bidirection': False}}"
      ]
     },
     "execution_count": 33,
     "metadata": {},
     "output_type": "execute_result"
    }
   ],
   "source": [
    "G_prime.get_edge_data(2, 1)"
   ]
  },
  {
   "cell_type": "code",
   "execution_count": 46,
   "metadata": {},
   "outputs": [],
   "source": [
    "def draw_graph(G):\n",
    "    nx.draw_spring(G, with_labels=True, font_weight='bold')\n",
    "    labels = nx.draw_networkx_labels(G, pos=nx.spring_layout(G))"
   ]
  },
  {
   "cell_type": "code",
   "execution_count": 48,
   "metadata": {},
   "outputs": [
    {
     "data": {
      "image/png": "[encoded data removed]",
      "text/plain": [
       "<Figure size 432x288 with 1 Axes>"
      ]
     },
     "metadata": {},
     "output_type": "display_data"
    }
   ],
   "source": [
    "draw_graph(G_prime_req)"
   ]
  },
  {
   "cell_type": "code",
   "execution_count": 34,
   "metadata": {},
   "outputs": [
    {
     "data": {
      "image/png": "[encoded data removed]",
      "text/plain": [
       "<Figure size 432x288 with 1 Axes>"
      ]
     },
     "metadata": {},
     "output_type": "display_data"
    }
   ],
   "source": [
    "draw_graph(G_prime)"
   ]
  },
  {
   "cell_type": "code",
   "execution_count": 16,
   "metadata": {},
   "outputs": [
    {
     "data": {
      "image/png": "[encoded data removed]",
      "text/plain": [
       "<Figure size 432x288 with 1 Axes>"
      ]
     },
     "metadata": {},
     "output_type": "display_data"
    }
   ],
   "source": [
    "draw_graph(G_all)"
   ]
  },
  {
   "cell_type": "code",
   "execution_count": 17,
   "metadata": {},
   "outputs": [
    {
     "data": {
      "image/png": "[encoded data removed]",
      "text/plain": [
       "<Figure size 432x288 with 1 Axes>"
      ]
     },
     "metadata": {},
     "output_type": "display_data"
    }
   ],
   "source": [
    "draw_graph(G_req_edges)"
   ]
  },
  {
   "cell_type": "code",
   "execution_count": 18,
   "metadata": {},
   "outputs": [
    {
     "data": {
      "image/png": "[encoded data removed]",
      "text/plain": [
       "<Figure size 432x288 with 1 Axes>"
      ]
     },
     "metadata": {},
     "output_type": "display_data"
    }
   ],
   "source": [
    "draw_graph(G_all_edges)"
   ]
  },
  {
   "cell_type": "code",
   "execution_count": 19,
   "metadata": {},
   "outputs": [
    {
     "data": {
      "image/png": "[encoded data removed]",
      "text/plain": [
       "<Figure size 432x288 with 1 Axes>"
      ]
     },
     "metadata": {},
     "output_type": "display_data"
    }
   ],
   "source": [
    "draw_graph(G_req_arcs)"
   ]
  },
  {
   "cell_type": "code",
   "execution_count": 20,
   "metadata": {},
   "outputs": [
    {
     "data": {
      "image/png": "[encoded data removed]",
      "text/plain": [
       "<Figure size 432x288 with 1 Axes>"
      ]
     },
     "metadata": {},
     "output_type": "display_data"
    }
   ],
   "source": [
    "draw_graph(G_all_arcs)"
   ]
  },
  {
   "cell_type": "code",
   "execution_count": 21,
   "metadata": {},
   "outputs": [
    {
     "data": {
      "text/plain": [
       "{5: {0: {'weight': 32, 'required': True}},\n",
       " 4: {0: {'weight': 70, 'bidirection': True, 'required': True}},\n",
       " 2: {35: {'required': False}}}"
      ]
     },
     "execution_count": 21,
     "metadata": {},
     "output_type": "execute_result"
    }
   ],
   "source": [
    "G_prime._adj[1]"
   ]
  },
  {
   "cell_type": "code",
   "execution_count": 22,
   "metadata": {},
   "outputs": [
    {
     "data": {
      "text/plain": [
       "[5]"
      ]
     },
     "execution_count": 22,
     "metadata": {},
     "output_type": "execute_result"
    }
   ],
   "source": [
    "list(G_all_arcs.neighbors(1))"
   ]
  },
  {
   "cell_type": "code",
   "execution_count": null,
   "metadata": {},
   "outputs": [],
   "source": []
  }
 ],
 "metadata": {
  "kernelspec": {
   "display_name": "Python 3",
   "language": "python",
   "name": "python3"
  },
  "language_info": {
   "codemirror_mode": {
    "name": "ipython",
    "version": 3
   },
   "file_extension": ".py",
   "mimetype": "text/x-python",
   "name": "python",
   "nbconvert_exporter": "python",
   "pygments_lexer": "ipython3",
   "version": "3.6.2"
  }
 },
 "nbformat": 4,
 "nbformat_minor": 2
}
